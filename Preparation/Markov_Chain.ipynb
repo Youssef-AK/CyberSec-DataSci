{
 "cells": [
  {
   "cell_type": "code",
   "execution_count": 2,
   "id": "4d5f9989-7e20-49e6-8b6d-dc6e7bc1ae97",
   "metadata": {},
   "outputs": [],
   "source": [
    "import markovify"
   ]
  },
  {
   "cell_type": "code",
   "execution_count": 3,
   "id": "c6849681-df3a-42a4-b381-da6d4595c726",
   "metadata": {},
   "outputs": [],
   "source": [
    "with open('decOfInd.txt') as f:\n",
    "    text= f.read()"
   ]
  },
  {
   "cell_type": "code",
   "execution_count": 4,
   "id": "bb8324fb-d9fe-4a52-bb80-674ed06b3470",
   "metadata": {},
   "outputs": [
    {
     "name": "stdout",
     "output_type": "stream",
     "text": [
      "The unanimous Declaration of the thirteen united States of America\n",
      "\n",
      "When in the Course of human events, it becomes necessary for\n",
      "one people to dissolve the political bands which have connected\n",
      "them with another, and to assume, among the Powers of the earth,\n",
      "the separate and equal station to which the Laws of Nature and\n",
      "of Nature's God entitle them, a decent respect to the opinions\n",
      "of mankind requires that they should declare the causes which\n",
      "impel them to the separation.\n",
      "\n",
      "We hold these truths to be self-evident, that all men are created equal,\n",
      "that they are endowed by their Creator with certain unalienable Rights,\n",
      "that among these are Life, Liberty, and the pursuit of Happiness.\n",
      "That to secure these rights, Governments are instituted among Men,\n",
      "deriving their just powers from the consent of the governed,\n",
      "That whenever any Form of Government becomes destructive of these ends,\n",
      "it is the Right of the People to alter or to abolish it, and to institute\n",
      "new Government, laying its foundation on such principles and organizing\n",
      "its powers in such form, as to them shall seem most likely to effect\n",
      "their Safety and Happiness.  Prudence, indeed, will dictate that Governments\n",
      "long established should not be changed for light and transient causes;\n",
      "and accordingly all experience hath shown, that mankind are more disposed\n",
      "to suffer, while evils are sufferable, than to right themselves by abolishing\n",
      "the forms to which they are accustomed.  But when a long train of abuses and\n",
      "usurpations, pursuing invariably the same Object evinces a design to reduce\n",
      "them under absolute Despotism, it is their right, it is their duty, to throw\n",
      "off such Government, and to provide new Guards for their future security.\n",
      "--Such has been the patient sufferance of these Colonies; and such is now\n",
      "the necessity which constrains them to alter their former Systems of Government.\n",
      "The history of the present King of Great Britain is a history of repeated\n",
      "injuries and usurpations, all having in direct object the establishment\n",
      "of an absolute Tyranny over these States.  To prove this, let Facts\n",
      "be submitted to a candid world.\n",
      "\n",
      "He has refused his Assent to Laws, the most wholesome and necessary\n",
      "for the public good.\n",
      "\n",
      "He has forbidden his Governors to pass Laws of immediate\n",
      "and pressing importance, unless suspended in their operation\n",
      "till his Assent should be obtained; and when so suspended,\n",
      "he has utterly neglected to attend to them.\n",
      "\n",
      "He has refused to pass other Laws for the accommodation of\n",
      "large districts of people, unless those people would relinquish\n",
      "the right of Representation in the Legislature, a right\n",
      "inestimable to them and formidable to tyrants only.\n",
      "\n",
      "He has called together legislative bodies at places unusual,\n",
      "uncomfortable, and distant from the depository of their\n",
      "Public Records, for the sole purpose of fatiguing them\n",
      "into compliance with his measures.\n",
      "\n",
      "He has dissolved Representative Houses repeatedly, for opposing\n",
      "with manly firmness his invasions on the rights of the people.\n",
      "\n",
      "He has refused for a long time, after such dissolutions,\n",
      "to cause others to be elected; whereby the Legislative Powers,\n",
      "incapable of Annihilation, have returned to the People at large\n",
      "for their exercise; the State remaining in the mean time exposed\n",
      "to all the dangers of invasion from without, and convulsions within.\n",
      "\n",
      "He has endeavoured to prevent the population of these States;\n",
      "for that purpose obstructing the Laws of Naturalization of Foreigners;\n",
      "refusing to pass others to encourage their migration hither,\n",
      "and raising the conditions of new Appropriations of Lands.\n",
      "\n",
      "He has obstructed the Administration of Justice, by refusing his Assent\n",
      "to Laws for establishing Judiciary Powers.\n",
      "\n",
      "He has made judges dependent on his Will alone, for the tenure\n",
      "of their offices, and the amount and payment of their salaries.\n",
      "\n",
      "He has erected a multitude of New Offices, and sent hither swarms of\n",
      "Officers to harass our People, and eat out their substance.\n",
      "\n",
      "He has kept among us, in times of peace, Standing Armies\n",
      "without the Consent of our legislatures.\n",
      "\n",
      "He has affected to render the Military independent of\n",
      "and superior to the Civil Power.\n",
      "\n",
      "He has combined with others to subject us to a jurisdiction\n",
      "foreign to our constitution, and unacknowledged by our laws;\n",
      "giving his Assent to their Acts of pretended legislation:\n",
      "\n",
      "For quartering large bodies of armed troops among us:\n",
      "\n",
      "For protecting them, by a mock Trial, from Punishment for any Murders\n",
      "which they should commit on the Inhabitants of these States:\n",
      "\n",
      "For cutting off our Trade with all parts of the world:\n",
      "\n",
      "For imposing taxes on us without our Consent:\n",
      "\n",
      "For depriving us, in many cases, of the benefits of Trial by Jury:\n",
      "\n",
      "For transporting us beyond Seas to be tried for pretended offences:\n",
      "\n",
      "For abolishing the free System of English Laws in a neighbouring\n",
      "Province, establishing therein an Arbitrary government,\n",
      "and enlarging its Boundaries so as to render it at once\n",
      "an example and fit instrument for introducing the same\n",
      "absolute rule into these Colonies:\n",
      "\n",
      "For taking away our Charters, abolishing our most valuable Laws,\n",
      "and altering fundamentally the Forms of our Governments:\n",
      "\n",
      "For suspending our own Legislatures, and declaring themselves\n",
      "invested with Power to legislate for us in all cases whatsoever.\n",
      "\n",
      "He has abdicated Government here, by declaring us out of his Protection\n",
      "and waging War against us.\n",
      "\n",
      "He has plundered our seas, ravaged our Coasts, burnt our towns,\n",
      "and destroyed the lives of our people.\n",
      "\n",
      "He is at this time transporting large armies of foreign mercenaries\n",
      "to compleat the works of death, desolation and tyranny, already begun\n",
      "with circumstances of Cruelty & perfidy scarcely paralleled in the\n",
      "most barbarous ages, and totally unworthy of the Head of a civilized nation.\n",
      "\n",
      "He has constrained our fellow Citizens taken Captive on the high Seas\n",
      "to bear Arms against their Country, to become the executioners of\n",
      "their friends and Brethren, or to fall themselves by their Hands.\n",
      "\n",
      "He has excited domestic insurrections amongst us, and has\n",
      "endeavoured to bring on the inhabitants of our frontiers,\n",
      "the merciless Indian Savages, whose known rule of warfare,\n",
      "is an undistinguished destruction of all ages, sexes and conditions.\n",
      "\n",
      "In every stage of these Oppressions We have Petitioned for Redress\n",
      "in the most humble terms:  Our repeated Petitions have been answered\n",
      "only by repeated injury.  A Prince, whose character is thus marked\n",
      "by every act which may define a Tyrant, is unfit to be the ruler\n",
      "of a free People.\n",
      "\n",
      "Nor have We been wanting in attention to our Brittish brethren.\n",
      "We have warned them from time to time of attempts by their\n",
      "legislature to extend an unwarrantable jurisdiction over us.\n",
      "We have reminded them of the circumstances of our emigration and\n",
      "settlement here.  We have appealed to their native justice\n",
      "and magnanimity, and we have conjured them by the ties of our\n",
      "common kindred to disavow these usurpations, which would inevitably\n",
      "interrupt our connections and correspondence.  They too have been\n",
      "deaf to the voice of justice and of consanguinity.  We must, therefore,\n",
      "acquiesce in the necessity, which denounces our Separation, and hold them,\n",
      "as we hold the rest of mankind, Enemies in War, in Peace Friends.\n",
      "\n",
      "We, therefore, the Representatives of the United States of America,\n",
      "in General Congress, Assembled, appealing to the Supreme Judge of\n",
      "the world for the rectitude of our intentions, do, in the Name,\n",
      "and by the Authority of the good People of these Colonies,\n",
      "solemnly publish and declare, That these United Colonies are,\n",
      "and of Right ought to be Free and Independent States;\n",
      "that they are Absolved from all Allegiance to the British Crown,\n",
      "and that all political connection between them and the State\n",
      "of Great Britain, is and ought to be totally dissolved;\n",
      "and that as Free and Independent States, they have full Power to\n",
      "levy War, conclude Peace, contract Alliances, establish Commerce,\n",
      "and to do all other Acts and Things which Independent States may\n",
      "of right do.  And for the support of this Declaration, with a firm\n",
      "reliance on the Protection of Divine Providence, we mutually pledge\n",
      "to each other our Lives, our Fortunes and our sacred Honor.\n"
     ]
    }
   ],
   "source": [
    "print(text)"
   ]
  },
  {
   "cell_type": "code",
   "execution_count": 5,
   "id": "92a87a69-db0c-48b1-8d1d-fb6dce1b1606",
   "metadata": {},
   "outputs": [],
   "source": [
    "text_model = markovify.Text(text)"
   ]
  },
  {
   "cell_type": "code",
   "execution_count": 6,
   "id": "93df1734-1aa4-421f-9fbc-55b5e81e5f36",
   "metadata": {},
   "outputs": [
    {
     "name": "stdout",
     "output_type": "stream",
     "text": [
      "The unanimous Declaration of the Head of a civilized nation.\n",
      "He has combined with others to be tried for pretended offences: For abolishing the forms to which they are accustomed.\n",
      "We have warned them from time to time of attempts by their Creator with certain unalienable Rights, that among these are Life, Liberty, and the State of Great Britain, is and ought to be elected; whereby the Legislative Powers, incapable of Annihilation, have returned to the Civil Power.\n",
      "He has obstructed the Administration of Justice, by refusing his Assent to Laws for the support of this Declaration, with a firm reliance on the Inhabitants of these Colonies, solemnly publish and declare, That these United Colonies are, and of consanguinity.\n",
      "Nor have We been wanting in attention to our constitution, and unacknowledged by our laws; giving his Assent to Laws, the most humble terms: Our repeated Petitions have been answered only by repeated injury.\n"
     ]
    }
   ],
   "source": [
    "for i in range(5):\n",
    "    print(text_model.make_sentence())"
   ]
  },
  {
   "cell_type": "code",
   "execution_count": 11,
   "id": "1f98a945-28cb-4d03-93cc-1d964026677e",
   "metadata": {},
   "outputs": [
    {
     "name": "stdout",
     "output_type": "stream",
     "text": [
      "We hold these truths to be the ruler of a free People.\n",
      "In every stage of these States: For cutting off our Trade with all parts of the Head of a free People.\n",
      "He has kept among us, in many cases, of the Head of a civilized nation.\n"
     ]
    }
   ],
   "source": [
    "# Specify the length of sentences\n",
    "for i in range(3):\n",
    "    print(text_model.make_short_sentence(140))"
   ]
  },
  {
   "cell_type": "markdown",
   "id": "257dfe98-1587-4531-b484-2fe5751aa324",
   "metadata": {},
   "source": [
    "# DONEEEEEEE :)"
   ]
  }
 ],
 "metadata": {
  "kernelspec": {
   "display_name": "Python 3",
   "language": "python",
   "name": "python3"
  },
  "language_info": {
   "codemirror_mode": {
    "name": "ipython",
    "version": 3
   },
   "file_extension": ".py",
   "mimetype": "text/x-python",
   "name": "python",
   "nbconvert_exporter": "python",
   "pygments_lexer": "ipython3",
   "version": "3.7.1"
  }
 },
 "nbformat": 4,
 "nbformat_minor": 5
}
