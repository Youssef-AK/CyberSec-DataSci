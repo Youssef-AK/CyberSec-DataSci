{
 "cells": [
  {
   "cell_type": "code",
   "execution_count": 1,
   "id": "72f53089-dee5-4411-abf6-b4f418897f2a",
   "metadata": {},
   "outputs": [],
   "source": [
    "from sklearn.datasets import fetch_20newsgroups\n",
    "newsgroups_train = fetch_20newsgroups(subset='train')\n",
    "newsgroups_test = fetch_20newsgroups(subset='test')"
   ]
  },
  {
   "cell_type": "code",
   "execution_count": 2,
   "id": "da935b41-55c3-4d72-9ad0-5a5425c70511",
   "metadata": {},
   "outputs": [
    {
     "data": {
      "text/plain": [
       "\"From: lerxst@wam.umd.edu (where's my thing)\\nSubject: WHAT car is this!?\\nNntp-Posting-Host: rac3.wam.umd.edu\\nOrganization: University of Maryland, College Park\\nLines: 15\\n\\n I was wondering if anyone out there could enlighten me on this car I saw\\nthe other day. It was a 2-door sports car, looked to be from the late 60s/\\nearly 70s. It was called a Bricklin. The doors were really small. In addition,\\nthe front bumper was separate from the rest of the body. This is \\nall I know. If anyone can tellme a model name, engine specs, years\\nof production, where this car is made, history, or whatever info you\\nhave on this funky looking car, please e-mail.\\n\\nThanks,\\n- IL\\n   ---- brought to you by your neighborhood Lerxst ----\\n\\n\\n\\n\\n\""
      ]
     },
     "execution_count": 2,
     "metadata": {},
     "output_type": "execute_result"
    }
   ],
   "source": [
    "newsgroups_train.data[0]"
   ]
  },
  {
   "cell_type": "code",
   "execution_count": 3,
   "id": "f5c07acd-3d15-4683-9f57-492c333febf6",
   "metadata": {},
   "outputs": [
    {
     "data": {
      "text/plain": [
       "7"
      ]
     },
     "execution_count": 3,
     "metadata": {},
     "output_type": "execute_result"
    }
   ],
   "source": [
    "newsgroups_train.target[0]"
   ]
  },
  {
   "cell_type": "code",
   "execution_count": 6,
   "id": "b0cefae3-9116-4012-b088-1287530a157f",
   "metadata": {},
   "outputs": [],
   "source": [
    "from sklearn.feature_extraction.text import TfidfVectorizer\n",
    "\n",
    "ngram_range = (1, 2)\n",
    "my_tfidf_verctorizer = TfidfVectorizer(input ='content', ngram_range= ngram_range)\n",
    "X_train_transformed = my_tfidf_verctorizer.fit_transform(newsgroups_train.data)"
   ]
  },
  {
   "cell_type": "code",
   "execution_count": 7,
   "id": "2fe6b9a8-03b2-4bc6-9662-ca83c01688e8",
   "metadata": {},
   "outputs": [
    {
     "data": {
      "text/plain": [
       "<11314x1181803 sparse matrix of type '<class 'numpy.float64'>'\n",
       "\twith 4696188 stored elements in Compressed Sparse Row format>"
      ]
     },
     "execution_count": 7,
     "metadata": {},
     "output_type": "execute_result"
    }
   ],
   "source": [
    "X_train_transformed"
   ]
  },
  {
   "cell_type": "code",
   "execution_count": 8,
   "id": "6cc620e1-9bed-4bf0-b1ec-dbc298cebe49",
   "metadata": {},
   "outputs": [],
   "source": [
    "# train XGBoost classifier\n",
    "from xgboost import XGBClassifier\n",
    "clf = XGBClassifier(use_label_encoder=False)"
   ]
  },
  {
   "cell_type": "code",
   "execution_count": 9,
   "id": "b6900b03-0883-4dac-986c-8d95c5a5a868",
   "metadata": {},
   "outputs": [
    {
     "name": "stdout",
     "output_type": "stream",
     "text": [
      "[10:08:54] WARNING: C:/Users/Administrator/workspace/xgboost-win64_release_1.5.0/src/learner.cc:1115: Starting in XGBoost 1.3.0, the default evaluation metric used with the objective 'multi:softprob' was changed from 'merror' to 'mlogloss'. Explicitly set eval_metric if you'd like to restore the old behavior.\n"
     ]
    },
    {
     "data": {
      "text/plain": [
       "XGBClassifier(base_score=0.5, booster='gbtree', colsample_bylevel=1,\n",
       "              colsample_bynode=1, colsample_bytree=1, enable_categorical=False,\n",
       "              gamma=0, gpu_id=-1, importance_type=None,\n",
       "              interaction_constraints='', learning_rate=0.300000012,\n",
       "              max_delta_step=0, max_depth=6, min_child_weight=1, missing=nan,\n",
       "              monotone_constraints='()', n_estimators=100, n_jobs=8,\n",
       "              num_parallel_tree=1, objective='multi:softprob', predictor='auto',\n",
       "              random_state=0, reg_alpha=0, reg_lambda=1, scale_pos_weight=None,\n",
       "              subsample=1, tree_method='exact', use_label_encoder=False,\n",
       "              validate_parameters=1, verbosity=None)"
      ]
     },
     "execution_count": 9,
     "metadata": {},
     "output_type": "execute_result"
    }
   ],
   "source": [
    "clf.fit(X_train_transformed, newsgroups_train.target)"
   ]
  },
  {
   "cell_type": "code",
   "execution_count": 10,
   "id": "c0421eab-60fa-4614-99b2-b6e81491b7ed",
   "metadata": {},
   "outputs": [
    {
     "data": {
      "text/plain": [
       "0.9999116139296447"
      ]
     },
     "execution_count": 10,
     "metadata": {},
     "output_type": "execute_result"
    }
   ],
   "source": [
    "# Train Score\n",
    "clf.score(X_train_transformed, newsgroups_train.target)"
   ]
  },
  {
   "cell_type": "code",
   "execution_count": 13,
   "id": "f69bae10-1b36-4c2c-b2b9-d1e4a7b558b3",
   "metadata": {},
   "outputs": [],
   "source": [
    "# Test Score\n",
    "#X_test_transformed = my_tfidf_verctorizer.fit_transform(newsgroups_test.data)"
   ]
  },
  {
   "cell_type": "code",
   "execution_count": 14,
   "id": "c87b05bb-bd63-4444-bea2-5a383891e136",
   "metadata": {},
   "outputs": [],
   "source": [
    "#clf.score(X_test_transformed, newsgroups_test.target)"
   ]
  },
  {
   "cell_type": "code",
   "execution_count": 16,
   "id": "11c9cdf8-aa2e-4c0d-8108-6aa3eb9f6b9e",
   "metadata": {},
   "outputs": [],
   "source": [
    "from sklearn import tree\n",
    "clf = tree.DecisionTreeClassifier()\n",
    "\n",
    "clf = clf.fit(X_train_transformed, newsgroups_train.target)"
   ]
  },
  {
   "cell_type": "code",
   "execution_count": 17,
   "id": "aee5b865-699a-4add-96ce-c2cad5bc3674",
   "metadata": {},
   "outputs": [
    {
     "data": {
      "text/plain": [
       "0.9999116139296447"
      ]
     },
     "execution_count": 17,
     "metadata": {},
     "output_type": "execute_result"
    }
   ],
   "source": [
    "clf.score(X_train_transformed, newsgroups_train.target)"
   ]
  },
  {
   "cell_type": "code",
   "execution_count": null,
   "id": "76dcd360-4b03-498f-b227-399873c87740",
   "metadata": {},
   "outputs": [],
   "source": []
  }
 ],
 "metadata": {
  "kernelspec": {
   "display_name": "Python 3",
   "language": "python",
   "name": "python3"
  },
  "language_info": {
   "codemirror_mode": {
    "name": "ipython",
    "version": 3
   },
   "file_extension": ".py",
   "mimetype": "text/x-python",
   "name": "python",
   "nbconvert_exporter": "python",
   "pygments_lexer": "ipython3",
   "version": "3.7.1"
  }
 },
 "nbformat": 4,
 "nbformat_minor": 5
}
